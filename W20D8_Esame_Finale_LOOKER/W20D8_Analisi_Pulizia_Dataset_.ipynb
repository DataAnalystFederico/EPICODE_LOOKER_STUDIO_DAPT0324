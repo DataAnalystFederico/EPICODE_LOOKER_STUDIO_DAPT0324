{
 "cells": [
  {
   "cell_type": "code",
   "execution_count": 802,
   "id": "c4372aca-c589-4283-9dc2-894f94043449",
   "metadata": {},
   "outputs": [],
   "source": [
    "# importazione libreria pandas\n",
    "\n",
    "import pandas as pd"
   ]
  },
  {
   "cell_type": "code",
   "execution_count": 804,
   "id": "b7da5a1b-c95b-49de-b958-3bb3204a4b93",
   "metadata": {},
   "outputs": [],
   "source": [
    "# creazione dei df\n",
    "\n",
    "df_festival = pd.read_excel('dati-festival-sanremo-1951-2023.xlsx')\n",
    "df_classifica = pd.read_excel('dati-classifica-sanremo-1951-2023.xlsx')"
   ]
  },
  {
   "cell_type": "code",
   "execution_count": 806,
   "id": "0d3bd1fb-76bc-43b1-b7c0-e7f9883a7f0b",
   "metadata": {},
   "outputs": [
    {
     "data": {
      "text/html": [
       "<div>\n",
       "<style scoped>\n",
       "    .dataframe tbody tr th:only-of-type {\n",
       "        vertical-align: middle;\n",
       "    }\n",
       "\n",
       "    .dataframe tbody tr th {\n",
       "        vertical-align: top;\n",
       "    }\n",
       "\n",
       "    .dataframe thead th {\n",
       "        text-align: right;\n",
       "    }\n",
       "</style>\n",
       "<table border=\"1\" class=\"dataframe\">\n",
       "  <thead>\n",
       "    <tr style=\"text-align: right;\">\n",
       "      <th></th>\n",
       "      <th>Anno</th>\n",
       "      <th>Periodo</th>\n",
       "      <th>Sede</th>\n",
       "      <th>Presentatore</th>\n",
       "      <th>Partecipanti</th>\n",
       "      <th>Vincitore</th>\n",
       "    </tr>\n",
       "  </thead>\n",
       "  <tbody>\n",
       "    <tr>\n",
       "      <th>0</th>\n",
       "      <td>1951</td>\n",
       "      <td>29-31 gennaio</td>\n",
       "      <td>Casinò di Sanremo</td>\n",
       "      <td>Nunzio Filogamo</td>\n",
       "      <td>3</td>\n",
       "      <td>Nilla Pizzi</td>\n",
       "    </tr>\n",
       "    <tr>\n",
       "      <th>1</th>\n",
       "      <td>1952</td>\n",
       "      <td>28-30 gennaio</td>\n",
       "      <td>Casinò di Sanremo</td>\n",
       "      <td>Nunzio Filogamo</td>\n",
       "      <td>5</td>\n",
       "      <td>Nilla Pizzi</td>\n",
       "    </tr>\n",
       "    <tr>\n",
       "      <th>2</th>\n",
       "      <td>1953</td>\n",
       "      <td>29-31 gennaio</td>\n",
       "      <td>Casinò di Sanremo</td>\n",
       "      <td>Nunzio Filogamo</td>\n",
       "      <td>10</td>\n",
       "      <td>Carla Boni</td>\n",
       "    </tr>\n",
       "    <tr>\n",
       "      <th>3</th>\n",
       "      <td>1954</td>\n",
       "      <td>28-30 gennaio</td>\n",
       "      <td>Casinò di Sanremo</td>\n",
       "      <td>Nunzio Filogamo</td>\n",
       "      <td>12</td>\n",
       "      <td>Gino Latilla</td>\n",
       "    </tr>\n",
       "    <tr>\n",
       "      <th>4</th>\n",
       "      <td>1955</td>\n",
       "      <td>27-29 gennaio</td>\n",
       "      <td>Casinò di Sanremo</td>\n",
       "      <td>Armando Pizzo</td>\n",
       "      <td>15</td>\n",
       "      <td>Claudio Villa</td>\n",
       "    </tr>\n",
       "  </tbody>\n",
       "</table>\n",
       "</div>"
      ],
      "text/plain": [
       "   Anno        Periodo               Sede     Presentatore  Partecipanti  \\\n",
       "0  1951  29-31 gennaio  Casinò di Sanremo  Nunzio Filogamo             3   \n",
       "1  1952  28-30 gennaio  Casinò di Sanremo  Nunzio Filogamo             5   \n",
       "2  1953  29-31 gennaio  Casinò di Sanremo  Nunzio Filogamo            10   \n",
       "3  1954  28-30 gennaio  Casinò di Sanremo  Nunzio Filogamo            12   \n",
       "4  1955  27-29 gennaio  Casinò di Sanremo    Armando Pizzo            15   \n",
       "\n",
       "       Vincitore  \n",
       "0    Nilla Pizzi  \n",
       "1    Nilla Pizzi  \n",
       "2     Carla Boni  \n",
       "3   Gino Latilla  \n",
       "4  Claudio Villa  "
      ]
     },
     "metadata": {},
     "output_type": "display_data"
    },
    {
     "data": {
      "text/html": [
       "<div>\n",
       "<style scoped>\n",
       "    .dataframe tbody tr th:only-of-type {\n",
       "        vertical-align: middle;\n",
       "    }\n",
       "\n",
       "    .dataframe tbody tr th {\n",
       "        vertical-align: top;\n",
       "    }\n",
       "\n",
       "    .dataframe thead th {\n",
       "        text-align: right;\n",
       "    }\n",
       "</style>\n",
       "<table border=\"1\" class=\"dataframe\">\n",
       "  <thead>\n",
       "    <tr style=\"text-align: right;\">\n",
       "      <th></th>\n",
       "      <th>Unnamed: 0</th>\n",
       "      <th>Posizione</th>\n",
       "      <th>Interprete</th>\n",
       "      <th>Canzone</th>\n",
       "      <th>anno</th>\n",
       "      <th>Autori</th>\n",
       "    </tr>\n",
       "  </thead>\n",
       "  <tbody>\n",
       "    <tr>\n",
       "      <th>0</th>\n",
       "      <td>0</td>\n",
       "      <td>1º</td>\n",
       "      <td>Nilla Pizzi</td>\n",
       "      <td>Grazie dei fiori</td>\n",
       "      <td>1951</td>\n",
       "      <td>Gian Carlo Testoni e Mario Panzeri</td>\n",
       "    </tr>\n",
       "    <tr>\n",
       "      <th>1</th>\n",
       "      <td>1</td>\n",
       "      <td>2º</td>\n",
       "      <td>Nilla Pizzi e Achille Togliani</td>\n",
       "      <td>La luna si veste d'argento</td>\n",
       "      <td>1951</td>\n",
       "      <td>Biri</td>\n",
       "    </tr>\n",
       "    <tr>\n",
       "      <th>2</th>\n",
       "      <td>2</td>\n",
       "      <td>3º</td>\n",
       "      <td>Achille Togliani</td>\n",
       "      <td>Serenata a nessuno</td>\n",
       "      <td>1951</td>\n",
       "      <td>Walter Colì</td>\n",
       "    </tr>\n",
       "    <tr>\n",
       "      <th>3</th>\n",
       "      <td>3</td>\n",
       "      <td>F</td>\n",
       "      <td>Achille Togliani e Duo Fasano</td>\n",
       "      <td>Al mercato di Pizzighettone</td>\n",
       "      <td>1951</td>\n",
       "      <td>Aldo Locatelli</td>\n",
       "    </tr>\n",
       "    <tr>\n",
       "      <th>4</th>\n",
       "      <td>4</td>\n",
       "      <td>F</td>\n",
       "      <td>Nilla Pizzi e Achille Togliani</td>\n",
       "      <td>Eco tra gli abeti</td>\n",
       "      <td>1951</td>\n",
       "      <td>Enzo Bonagura</td>\n",
       "    </tr>\n",
       "  </tbody>\n",
       "</table>\n",
       "</div>"
      ],
      "text/plain": [
       "   Unnamed: 0 Posizione                      Interprete  \\\n",
       "0           0        1º                     Nilla Pizzi   \n",
       "1           1        2º  Nilla Pizzi e Achille Togliani   \n",
       "2           2        3º                Achille Togliani   \n",
       "3           3         F   Achille Togliani e Duo Fasano   \n",
       "4           4         F  Nilla Pizzi e Achille Togliani   \n",
       "\n",
       "                       Canzone  anno                              Autori  \n",
       "0             Grazie dei fiori  1951  Gian Carlo Testoni e Mario Panzeri  \n",
       "1   La luna si veste d'argento  1951                                Biri  \n",
       "2           Serenata a nessuno  1951                         Walter Colì  \n",
       "3  Al mercato di Pizzighettone  1951                      Aldo Locatelli  \n",
       "4            Eco tra gli abeti  1951                       Enzo Bonagura  "
      ]
     },
     "metadata": {},
     "output_type": "display_data"
    }
   ],
   "source": [
    "# visualizzazione congiunta dei df \n",
    "\n",
    "display(df_festival.head())\n",
    "display(df_classifica.head())"
   ]
  },
  {
   "cell_type": "code",
   "execution_count": 808,
   "id": "beb75d02-0f70-4f0e-920f-6e7620d44cbb",
   "metadata": {},
   "outputs": [
    {
     "name": "stdout",
     "output_type": "stream",
     "text": [
      "<class 'pandas.core.frame.DataFrame'>\n",
      "RangeIndex: 73 entries, 0 to 72\n",
      "Data columns (total 6 columns):\n",
      " #   Column        Non-Null Count  Dtype \n",
      "---  ------        --------------  ----- \n",
      " 0   Anno          73 non-null     int64 \n",
      " 1   Periodo       73 non-null     object\n",
      " 2   Sede          73 non-null     object\n",
      " 3   Presentatore  73 non-null     object\n",
      " 4   Partecipanti  73 non-null     int64 \n",
      " 5   Vincitore     73 non-null     object\n",
      "dtypes: int64(2), object(4)\n",
      "memory usage: 3.6+ KB\n"
     ]
    },
    {
     "data": {
      "text/plain": [
       "None"
      ]
     },
     "metadata": {},
     "output_type": "display_data"
    },
    {
     "name": "stdout",
     "output_type": "stream",
     "text": [
      "<class 'pandas.core.frame.DataFrame'>\n",
      "RangeIndex: 1663 entries, 0 to 1662\n",
      "Data columns (total 6 columns):\n",
      " #   Column      Non-Null Count  Dtype \n",
      "---  ------      --------------  ----- \n",
      " 0   Unnamed: 0  1663 non-null   int64 \n",
      " 1   Posizione   1653 non-null   object\n",
      " 2   Interprete  1663 non-null   object\n",
      " 3   Canzone     1663 non-null   object\n",
      " 4   anno        1663 non-null   int64 \n",
      " 5   Autori      1663 non-null   object\n",
      "dtypes: int64(2), object(4)\n",
      "memory usage: 78.1+ KB\n"
     ]
    },
    {
     "data": {
      "text/plain": [
       "None"
      ]
     },
     "metadata": {},
     "output_type": "display_data"
    }
   ],
   "source": [
    "# visulizzazione informazioni dei df\n",
    "\n",
    "display(df_festival.info())\n",
    "display(df_classifica.info())"
   ]
  },
  {
   "cell_type": "code",
   "execution_count": 810,
   "id": "a1198b31-9090-4f1f-bb49-6855be81a090",
   "metadata": {},
   "outputs": [
    {
     "data": {
      "text/plain": [
       "0"
      ]
     },
     "metadata": {},
     "output_type": "display_data"
    },
    {
     "data": {
      "text/plain": [
       "10"
      ]
     },
     "metadata": {},
     "output_type": "display_data"
    }
   ],
   "source": [
    "# conteggio NULL presenti nei df\n",
    "\n",
    "display(df_festival.isnull().sum().sum())\n",
    "display(df_classifica.isnull().sum().sum())"
   ]
  },
  {
   "cell_type": "code",
   "execution_count": 812,
   "id": "662a1082-5807-4b99-a824-804811ab80f8",
   "metadata": {},
   "outputs": [
    {
     "name": "stdout",
     "output_type": "stream",
     "text": [
      "1) df_festival:\n",
      "il Dataset NON contiene valori NULL\n",
      "\n",
      "            /------/\n",
      "\n",
      "2) df_classifica:\n",
      "Posizione : 10 NULL. 0.6 %\n"
     ]
    }
   ],
   "source": [
    "# verifica approfondita dei NULL presenti dei df\n",
    "\n",
    "print('1) df_festival:')\n",
    "if df_festival.isna().sum().sum() > 0:\n",
    "    for column in df_festival.columns:\n",
    "        n_null = df_festival[column].isnull().sum()\n",
    "        percentuale_null = round((n_null/df_festival.shape[0]*100),2)\n",
    "        if n_null > 0:\n",
    "            print(column,':', n_null, 'NULL.', percentuale_null, '%')\n",
    "else:\n",
    "    print('il Dataset NON contiene valori NULL')\n",
    "\n",
    "print('')\n",
    "print('            /------/')\n",
    "print('')\n",
    "print('2) df_classifica:')\n",
    "\n",
    "if df_classifica.isna().sum().sum() > 0:\n",
    "    for column in df_classifica.columns:\n",
    "        n_null = df_classifica[column].isnull().sum()\n",
    "        percentuale_null = round((n_null/df_classifica.shape[0]*100),2)\n",
    "        if n_null > 0:\n",
    "            print(column,':', n_null, 'NULL.', percentuale_null, '%')\n",
    "else:\n",
    "    print('il Dataset NON contiene valori NULL')"
   ]
  },
  {
   "cell_type": "code",
   "execution_count": 814,
   "id": "2f42a68f-77d3-4912-b119-037aa78791dd",
   "metadata": {},
   "outputs": [],
   "source": [
    "# rimozione colonna\n",
    "\n",
    "df_classifica = df_classifica.drop('Unnamed: 0', axis=1)"
   ]
  },
  {
   "cell_type": "code",
   "execution_count": 816,
   "id": "8b32abd1-0caf-49a0-b232-cd65f62bf8b5",
   "metadata": {},
   "outputs": [],
   "source": [
    "# rinominazione colonna\n",
    "\n",
    "df_classifica = df_classifica.rename(columns={'anno': 'Anno'})"
   ]
  },
  {
   "cell_type": "code",
   "execution_count": 818,
   "id": "5feaa256-b6d6-47fd-aa59-4ec74d262c72",
   "metadata": {},
   "outputs": [],
   "source": [
    "# aggiunta nuova colonna con indice 0\n",
    "\n",
    "df_classifica.insert(0, 'Anno1', df_classifica.Anno)"
   ]
  },
  {
   "cell_type": "code",
   "execution_count": 820,
   "id": "7ac17f62-7a9c-4bc8-b401-eba01e3ebc25",
   "metadata": {},
   "outputs": [],
   "source": [
    "# rimozione colonna precedentemente rinominata\n",
    "\n",
    "df_classifica = df_classifica.drop('Anno', axis = 1)"
   ]
  },
  {
   "cell_type": "code",
   "execution_count": 822,
   "id": "3bad6d6c-9ae0-4088-9c4d-9f5195cc060f",
   "metadata": {},
   "outputs": [],
   "source": [
    "# rinominazione colonna nuova \n",
    "\n",
    "df_classifica = df_classifica.rename(columns={'Anno1': 'Anno'})"
   ]
  },
  {
   "cell_type": "code",
   "execution_count": 824,
   "id": "8a99debd-2839-4d4f-82b7-f914a8080c70",
   "metadata": {},
   "outputs": [
    {
     "data": {
      "text/plain": [
       "array(['1º', '2º', '3º', 'F', 'NF', '4º', '5º', '6º', '7º', '8º', '9º',\n",
       "       '10º', '3º (ex aequo)', '11º', '12º', '2º (pari merito)',\n",
       "       '6º (ex aequo)', '9º (ex aequo)', '13º', '14º', '11º (ex aequo)',\n",
       "       '13º (ex aequo)', '8º (ex aequo)', '15º', '16º', '1', '2', '4',\n",
       "       '5', '6', '15º (ex aequo)', '17º', '18º', '6°', '19º', '20º',\n",
       "       '21º', '22º', '23º', '24º', '25º', '26º', '5°', '7°', '8°', '9°',\n",
       "       '10°', '11°', '12°', '13°', '14°', '15°', '16°', '17°', '18°',\n",
       "       '19°', '20°', '21°', '22°', '23°', '24°', '4°', '3', 'NF (E4)',\n",
       "       'NF (E3)', 'NF (E2)', nan, 'Esclusa', 'F (4º)[19]', 'F (5º)[20]',\n",
       "       'F (6º)[21]', 'F (7º)[22]', 'F (8º)[23]', 'F (9º)[24]',\n",
       "       'F (10º)[25]', 'Escluso', 'Esclusi', '27º', '28º'], dtype=object)"
      ]
     },
     "execution_count": 824,
     "metadata": {},
     "output_type": "execute_result"
    }
   ],
   "source": [
    "df_classifica.Posizione.unique()"
   ]
  },
  {
   "cell_type": "code",
   "execution_count": 828,
   "id": "32b6c433-18d9-4706-86af-4d90b4c39184",
   "metadata": {},
   "outputs": [
    {
     "data": {
      "text/plain": [
       "0        1°\n",
       "1        2°\n",
       "2        3°\n",
       "3        0°\n",
       "4        0°\n",
       "       ... \n",
       "1658    24°\n",
       "1659    25°\n",
       "1660    26°\n",
       "1661    27°\n",
       "1662    28°\n",
       "Name: Posizione, Length: 1663, dtype: object"
      ]
     },
     "execution_count": 828,
     "metadata": {},
     "output_type": "execute_result"
    }
   ],
   "source": [
    "# pulizia della colonna 'Posizione'\n",
    "\n",
    "df_classifica.Posizione = (df_classifica['Posizione']\n",
    " .fillna('0')\n",
    " .str.replace('º', '')\n",
    " .str.replace('°', '')\n",
    " .str.replace('NF', '0')\n",
    " .str.replace('F', '0')\n",
    " .str.replace('Es', '0')\n",
    " .str.replace('0c', '0')                         \n",
    " .str.strip()                         \n",
    " .str[0:2] + '°')\n",
    "\n",
    "df_classifica.Posizione "
   ]
  },
  {
   "cell_type": "code",
   "execution_count": 830,
   "id": "7a990b85-3d9f-4ed3-943b-1352fbe36e96",
   "metadata": {},
   "outputs": [],
   "source": [
    "# pulizia della colonna 'Vincitore' e 'Presentatore'\n",
    "\n",
    "df_festival.Vincitore = df_festival['Vincitore'].str.split('(').str[0]\n",
    "df_festival.Presentatore = df_festival.Presentatore.str.split('(').str[0]"
   ]
  },
  {
   "cell_type": "code",
   "execution_count": 842,
   "id": "4f8e52e0-b1fd-49b8-99f5-f20d67de95d9",
   "metadata": {},
   "outputs": [],
   "source": [
    "# rimozioni spazi iniziali e finali della colonna 'Presentatore'\n",
    "\n",
    "df_festival.Presentatore = df_festival.Presentatore.str.strip()"
   ]
  },
  {
   "cell_type": "code",
   "execution_count": 844,
   "id": "963ecc72-8a74-4bb7-b52f-bdfc28022d2b",
   "metadata": {},
   "outputs": [
    {
     "data": {
      "text/plain": [
       "array(['Nunzio Filogamo', 'Armando Pizzo', 'Fausto Tommei', 'Gianni Agus',\n",
       "       'Enzo Tortora', 'Paolo Ferrari', 'Lilli Lembo', 'Renato Tagliani',\n",
       "       'Mike Bongiorno', 'Pippo Baudo', 'Nuccio Costa', 'Carlo Giuffré',\n",
       "       'Corrado', 'Giancarlo Guardabassi', 'Maria Giovanna Elmi',\n",
       "       'Roberto Benigni', 'Claudio Cecchetto', 'Andrea Giordana',\n",
       "       'Loretta Goggi', 'Miguel Bosé', 'Rosita Celentano',\n",
       "       'Gabriella Carlucci', 'Andrea Occhipinti', 'Raimondo Vianello',\n",
       "       'Fabio Fazio', 'Raffaella Carrà', 'Simona Ventura',\n",
       "       'Paolo Bonolis', 'Giorgio Panariello', 'Antonella Clerici',\n",
       "       'Gianni Morandi', 'Carlo Conti', 'Claudio Baglioni', 'Amadeus'],\n",
       "      dtype=object)"
      ]
     },
     "execution_count": 844,
     "metadata": {},
     "output_type": "execute_result"
    }
   ],
   "source": [
    "df_festival.Presentatore.unique()"
   ]
  },
  {
   "cell_type": "code",
   "execution_count": 848,
   "id": "0b79b086-67dc-408b-bc3d-18636435d1c5",
   "metadata": {},
   "outputs": [],
   "source": [
    "# concatenazione di stringhe per preparare la colonna 'Anno' al campio di datatype\n",
    "\n",
    "df_festival.Anno = df_festival.Anno.astype('str') + '-01-01'\n",
    "df_classifica.Anno = df_classifica.Anno.astype('str') + '-01-01'"
   ]
  },
  {
   "cell_type": "code",
   "execution_count": 850,
   "id": "14e0b95a-150e-4fbb-a490-368a2b9b6318",
   "metadata": {},
   "outputs": [],
   "source": [
    "# conversione in formato data della colonna 'Anno'\n",
    "\n",
    "df_festival.Anno = pd.to_datetime(df_festival.Anno, format = '%Y-%m-%d')\n",
    "df_classifica.Anno = pd.to_datetime(df_classifica.Anno, format = '%Y-%m-%d')"
   ]
  },
  {
   "cell_type": "code",
   "execution_count": 852,
   "id": "d16e35ba-b131-495b-9233-ebae05f073d2",
   "metadata": {},
   "outputs": [],
   "source": [
    "# merge dei df (colonna di unione = 'Anno') e creazione del df\n",
    "\n",
    "df_sanremo = df_classifica.merge(df_festival, on = 'Anno')"
   ]
  },
  {
   "cell_type": "code",
   "execution_count": 856,
   "id": "0ad43d91-0e26-4fe4-8a8f-1627cac5a5f0",
   "metadata": {},
   "outputs": [
    {
     "name": "stdout",
     "output_type": "stream",
     "text": [
      "<class 'pandas.core.frame.DataFrame'>\n",
      "RangeIndex: 1663 entries, 0 to 1662\n",
      "Data columns (total 10 columns):\n",
      " #   Column        Non-Null Count  Dtype         \n",
      "---  ------        --------------  -----         \n",
      " 0   Anno          1663 non-null   datetime64[ns]\n",
      " 1   Posizione     1663 non-null   object        \n",
      " 2   Interprete    1663 non-null   object        \n",
      " 3   Canzone       1663 non-null   object        \n",
      " 4   Autori        1663 non-null   object        \n",
      " 5   Periodo       1663 non-null   object        \n",
      " 6   Sede          1663 non-null   object        \n",
      " 7   Presentatore  1663 non-null   object        \n",
      " 8   Partecipanti  1663 non-null   int64         \n",
      " 9   Vincitore     1663 non-null   object        \n",
      "dtypes: datetime64[ns](1), int64(1), object(8)\n",
      "memory usage: 130.1+ KB\n"
     ]
    },
    {
     "data": {
      "text/html": [
       "<div>\n",
       "<style scoped>\n",
       "    .dataframe tbody tr th:only-of-type {\n",
       "        vertical-align: middle;\n",
       "    }\n",
       "\n",
       "    .dataframe tbody tr th {\n",
       "        vertical-align: top;\n",
       "    }\n",
       "\n",
       "    .dataframe thead th {\n",
       "        text-align: right;\n",
       "    }\n",
       "</style>\n",
       "<table border=\"1\" class=\"dataframe\">\n",
       "  <thead>\n",
       "    <tr style=\"text-align: right;\">\n",
       "      <th></th>\n",
       "      <th>Anno</th>\n",
       "      <th>Posizione</th>\n",
       "      <th>Interprete</th>\n",
       "      <th>Canzone</th>\n",
       "      <th>Autori</th>\n",
       "      <th>Periodo</th>\n",
       "      <th>Sede</th>\n",
       "      <th>Presentatore</th>\n",
       "      <th>Partecipanti</th>\n",
       "      <th>Vincitore</th>\n",
       "    </tr>\n",
       "  </thead>\n",
       "  <tbody>\n",
       "    <tr>\n",
       "      <th>0</th>\n",
       "      <td>1951-01-01</td>\n",
       "      <td>1°</td>\n",
       "      <td>Nilla Pizzi</td>\n",
       "      <td>Grazie dei fiori</td>\n",
       "      <td>Gian Carlo Testoni e Mario Panzeri</td>\n",
       "      <td>29-31 gennaio</td>\n",
       "      <td>Casinò di Sanremo</td>\n",
       "      <td>Nunzio Filogamo</td>\n",
       "      <td>3</td>\n",
       "      <td>Nilla Pizzi</td>\n",
       "    </tr>\n",
       "    <tr>\n",
       "      <th>1</th>\n",
       "      <td>1951-01-01</td>\n",
       "      <td>2°</td>\n",
       "      <td>Nilla Pizzi e Achille Togliani</td>\n",
       "      <td>La luna si veste d'argento</td>\n",
       "      <td>Biri</td>\n",
       "      <td>29-31 gennaio</td>\n",
       "      <td>Casinò di Sanremo</td>\n",
       "      <td>Nunzio Filogamo</td>\n",
       "      <td>3</td>\n",
       "      <td>Nilla Pizzi</td>\n",
       "    </tr>\n",
       "    <tr>\n",
       "      <th>2</th>\n",
       "      <td>1951-01-01</td>\n",
       "      <td>3°</td>\n",
       "      <td>Achille Togliani</td>\n",
       "      <td>Serenata a nessuno</td>\n",
       "      <td>Walter Colì</td>\n",
       "      <td>29-31 gennaio</td>\n",
       "      <td>Casinò di Sanremo</td>\n",
       "      <td>Nunzio Filogamo</td>\n",
       "      <td>3</td>\n",
       "      <td>Nilla Pizzi</td>\n",
       "    </tr>\n",
       "    <tr>\n",
       "      <th>3</th>\n",
       "      <td>1951-01-01</td>\n",
       "      <td>0°</td>\n",
       "      <td>Achille Togliani e Duo Fasano</td>\n",
       "      <td>Al mercato di Pizzighettone</td>\n",
       "      <td>Aldo Locatelli</td>\n",
       "      <td>29-31 gennaio</td>\n",
       "      <td>Casinò di Sanremo</td>\n",
       "      <td>Nunzio Filogamo</td>\n",
       "      <td>3</td>\n",
       "      <td>Nilla Pizzi</td>\n",
       "    </tr>\n",
       "    <tr>\n",
       "      <th>4</th>\n",
       "      <td>1951-01-01</td>\n",
       "      <td>0°</td>\n",
       "      <td>Nilla Pizzi e Achille Togliani</td>\n",
       "      <td>Eco tra gli abeti</td>\n",
       "      <td>Enzo Bonagura</td>\n",
       "      <td>29-31 gennaio</td>\n",
       "      <td>Casinò di Sanremo</td>\n",
       "      <td>Nunzio Filogamo</td>\n",
       "      <td>3</td>\n",
       "      <td>Nilla Pizzi</td>\n",
       "    </tr>\n",
       "  </tbody>\n",
       "</table>\n",
       "</div>"
      ],
      "text/plain": [
       "        Anno Posizione                      Interprete  \\\n",
       "0 1951-01-01        1°                     Nilla Pizzi   \n",
       "1 1951-01-01        2°  Nilla Pizzi e Achille Togliani   \n",
       "2 1951-01-01        3°                Achille Togliani   \n",
       "3 1951-01-01        0°   Achille Togliani e Duo Fasano   \n",
       "4 1951-01-01        0°  Nilla Pizzi e Achille Togliani   \n",
       "\n",
       "                       Canzone                              Autori  \\\n",
       "0             Grazie dei fiori  Gian Carlo Testoni e Mario Panzeri   \n",
       "1   La luna si veste d'argento                                Biri   \n",
       "2           Serenata a nessuno                         Walter Colì   \n",
       "3  Al mercato di Pizzighettone                      Aldo Locatelli   \n",
       "4            Eco tra gli abeti                       Enzo Bonagura   \n",
       "\n",
       "         Periodo               Sede     Presentatore  Partecipanti  \\\n",
       "0  29-31 gennaio  Casinò di Sanremo  Nunzio Filogamo             3   \n",
       "1  29-31 gennaio  Casinò di Sanremo  Nunzio Filogamo             3   \n",
       "2  29-31 gennaio  Casinò di Sanremo  Nunzio Filogamo             3   \n",
       "3  29-31 gennaio  Casinò di Sanremo  Nunzio Filogamo             3   \n",
       "4  29-31 gennaio  Casinò di Sanremo  Nunzio Filogamo             3   \n",
       "\n",
       "     Vincitore  \n",
       "0  Nilla Pizzi  \n",
       "1  Nilla Pizzi  \n",
       "2  Nilla Pizzi  \n",
       "3  Nilla Pizzi  \n",
       "4  Nilla Pizzi  "
      ]
     },
     "execution_count": 856,
     "metadata": {},
     "output_type": "execute_result"
    }
   ],
   "source": [
    "# visualizzazione del df_sanremo\n",
    "\n",
    "df_sanremo.info()\n",
    "df_sanremo.head()"
   ]
  },
  {
   "cell_type": "code",
   "execution_count": 862,
   "id": "a8230455-d2b7-43db-a7f5-e14ec273284d",
   "metadata": {},
   "outputs": [],
   "source": [
    "# importazione dei dataset in file xlsx e csv\n",
    "\n",
    "df_sanremo.to_excel('df_sanremo.xlsx', index = False)\n",
    "df_sanremo.to_csv('df_sanremo.csv', index = False)\n",
    "\n",
    "df_festival.to_excel('df_festival.xlsx', index = False)\n",
    "df_classifica.to_excel('df_classifica.xlsx', index = False)\n",
    "\n",
    "df_festival.to_csv('df_festival.csv', index = False)\n",
    "df_classifica.to_csv('df_classifica.csv', index = False)"
   ]
  }
 ],
 "metadata": {
  "kernelspec": {
   "display_name": "Python 3 (ipykernel)",
   "language": "python",
   "name": "python3"
  },
  "language_info": {
   "codemirror_mode": {
    "name": "ipython",
    "version": 3
   },
   "file_extension": ".py",
   "mimetype": "text/x-python",
   "name": "python",
   "nbconvert_exporter": "python",
   "pygments_lexer": "ipython3",
   "version": "3.12.4"
  }
 },
 "nbformat": 4,
 "nbformat_minor": 5
}
